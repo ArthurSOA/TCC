{
 "cells": [
  {
   "cell_type": "code",
   "execution_count": 13,
   "id": "d5c69b0b",
   "metadata": {},
   "outputs": [
    {
     "name": "stdout",
     "output_type": "stream",
     "text": [
      "The autoreload extension is already loaded. To reload it, use:\n",
      "  %reload_ext autoreload\n"
     ]
    }
   ],
   "source": [
    "from tratamento_module import *\n",
    "from modelos_module import *\n",
    "import numpy as np\n",
    "import pandas as pd\n",
    "import warnings\n",
    "import importlib\n",
    "from IPython.lib.deepreload import reload\n",
    "from sklearn.metrics import plot_confusion_matrix\n",
    "%load_ext autoreload\n",
    "%autoreload 2\n"
   ]
  },
  {
   "cell_type": "code",
   "execution_count": 5,
   "id": "9d4dd6e2",
   "metadata": {},
   "outputs": [],
   "source": [
    "warnings.filterwarnings(\"ignore\")\n",
    "\n",
    "tratamento = Tratamento()"
   ]
  },
  {
   "cell_type": "code",
   "execution_count": 6,
   "id": "b32f7235",
   "metadata": {},
   "outputs": [],
   "source": [
    "amostras = tratamento.amostras_import()\n"
   ]
  },
  {
   "cell_type": "markdown",
   "id": "31331e79",
   "metadata": {},
   "source": [
    "IMPORTANDO AS AMOSTRAS "
   ]
  },
  {
   "cell_type": "code",
   "execution_count": 10,
   "id": "5f415f37",
   "metadata": {},
   "outputs": [
    {
     "data": {
      "text/html": [
       "<div>\n",
       "<style scoped>\n",
       "    .dataframe tbody tr th:only-of-type {\n",
       "        vertical-align: middle;\n",
       "    }\n",
       "\n",
       "    .dataframe tbody tr th {\n",
       "        vertical-align: top;\n",
       "    }\n",
       "\n",
       "    .dataframe thead th {\n",
       "        text-align: right;\n",
       "    }\n",
       "</style>\n",
       "<table border=\"1\" class=\"dataframe\">\n",
       "  <thead>\n",
       "    <tr style=\"text-align: right;\">\n",
       "      <th>Wavelength</th>\n",
       "      <th>350.0</th>\n",
       "      <th>351.0</th>\n",
       "      <th>352.0</th>\n",
       "      <th>353.0</th>\n",
       "      <th>354.0</th>\n",
       "      <th>355.0</th>\n",
       "      <th>356.0</th>\n",
       "      <th>357.0</th>\n",
       "      <th>358.0</th>\n",
       "      <th>359.0</th>\n",
       "      <th>...</th>\n",
       "      <th>1364.0</th>\n",
       "      <th>1365.0</th>\n",
       "      <th>1366.0</th>\n",
       "      <th>1367.0</th>\n",
       "      <th>1368.0</th>\n",
       "      <th>1369.0</th>\n",
       "      <th>1370.0</th>\n",
       "      <th>1371.0</th>\n",
       "      <th>1372.0</th>\n",
       "      <th>Diagnostico</th>\n",
       "    </tr>\n",
       "  </thead>\n",
       "  <tbody>\n",
       "    <tr>\n",
       "      <th>A3791_e</th>\n",
       "      <td>0.023225</td>\n",
       "      <td>0.023256</td>\n",
       "      <td>0.023233</td>\n",
       "      <td>0.022841</td>\n",
       "      <td>0.020918</td>\n",
       "      <td>0.020383</td>\n",
       "      <td>0.020697</td>\n",
       "      <td>0.020925</td>\n",
       "      <td>0.020588</td>\n",
       "      <td>0.020506</td>\n",
       "      <td>...</td>\n",
       "      <td>0.005530</td>\n",
       "      <td>0.005461</td>\n",
       "      <td>0.005387</td>\n",
       "      <td>0.005297</td>\n",
       "      <td>0.005223</td>\n",
       "      <td>0.005154</td>\n",
       "      <td>0.005089</td>\n",
       "      <td>0.005030</td>\n",
       "      <td>0.004977</td>\n",
       "      <td>Positivo</td>\n",
       "    </tr>\n",
       "    <tr>\n",
       "      <th>A3792_e</th>\n",
       "      <td>0.011012</td>\n",
       "      <td>0.009415</td>\n",
       "      <td>0.009336</td>\n",
       "      <td>0.010466</td>\n",
       "      <td>0.010308</td>\n",
       "      <td>0.009649</td>\n",
       "      <td>0.009095</td>\n",
       "      <td>0.008971</td>\n",
       "      <td>0.009065</td>\n",
       "      <td>0.009404</td>\n",
       "      <td>...</td>\n",
       "      <td>0.002891</td>\n",
       "      <td>0.002791</td>\n",
       "      <td>0.002685</td>\n",
       "      <td>0.002567</td>\n",
       "      <td>0.002467</td>\n",
       "      <td>0.002370</td>\n",
       "      <td>0.002278</td>\n",
       "      <td>0.002197</td>\n",
       "      <td>0.002121</td>\n",
       "      <td>Positivo</td>\n",
       "    </tr>\n",
       "    <tr>\n",
       "      <th>A3793_e</th>\n",
       "      <td>0.022587</td>\n",
       "      <td>0.022717</td>\n",
       "      <td>0.022223</td>\n",
       "      <td>0.020916</td>\n",
       "      <td>0.019812</td>\n",
       "      <td>0.018976</td>\n",
       "      <td>0.018413</td>\n",
       "      <td>0.017999</td>\n",
       "      <td>0.017348</td>\n",
       "      <td>0.017177</td>\n",
       "      <td>...</td>\n",
       "      <td>0.004460</td>\n",
       "      <td>0.004216</td>\n",
       "      <td>0.003982</td>\n",
       "      <td>0.003744</td>\n",
       "      <td>0.003521</td>\n",
       "      <td>0.003313</td>\n",
       "      <td>0.003111</td>\n",
       "      <td>0.002912</td>\n",
       "      <td>0.002729</td>\n",
       "      <td>Positivo</td>\n",
       "    </tr>\n",
       "    <tr>\n",
       "      <th>A3797_e</th>\n",
       "      <td>0.028283</td>\n",
       "      <td>0.026276</td>\n",
       "      <td>0.025200</td>\n",
       "      <td>0.025143</td>\n",
       "      <td>0.023914</td>\n",
       "      <td>0.023573</td>\n",
       "      <td>0.023126</td>\n",
       "      <td>0.021963</td>\n",
       "      <td>0.021399</td>\n",
       "      <td>0.020641</td>\n",
       "      <td>...</td>\n",
       "      <td>0.003192</td>\n",
       "      <td>0.003058</td>\n",
       "      <td>0.002933</td>\n",
       "      <td>0.002817</td>\n",
       "      <td>0.002703</td>\n",
       "      <td>0.002600</td>\n",
       "      <td>0.002496</td>\n",
       "      <td>0.002390</td>\n",
       "      <td>0.002304</td>\n",
       "      <td>Positivo</td>\n",
       "    </tr>\n",
       "    <tr>\n",
       "      <th>A3798_e</th>\n",
       "      <td>0.024692</td>\n",
       "      <td>0.023229</td>\n",
       "      <td>0.022823</td>\n",
       "      <td>0.022822</td>\n",
       "      <td>0.021488</td>\n",
       "      <td>0.020784</td>\n",
       "      <td>0.020383</td>\n",
       "      <td>0.019904</td>\n",
       "      <td>0.019754</td>\n",
       "      <td>0.019565</td>\n",
       "      <td>...</td>\n",
       "      <td>0.004339</td>\n",
       "      <td>0.004128</td>\n",
       "      <td>0.003919</td>\n",
       "      <td>0.003715</td>\n",
       "      <td>0.003523</td>\n",
       "      <td>0.003337</td>\n",
       "      <td>0.003151</td>\n",
       "      <td>0.002971</td>\n",
       "      <td>0.002806</td>\n",
       "      <td>Positivo</td>\n",
       "    </tr>\n",
       "  </tbody>\n",
       "</table>\n",
       "<p>5 rows × 1024 columns</p>\n",
       "</div>"
      ],
      "text/plain": [
       "Wavelength     350.0     351.0     352.0     353.0     354.0     355.0  \\\n",
       "A3791_e     0.023225  0.023256  0.023233  0.022841  0.020918  0.020383   \n",
       "A3792_e     0.011012  0.009415  0.009336  0.010466  0.010308  0.009649   \n",
       "A3793_e     0.022587  0.022717  0.022223  0.020916  0.019812  0.018976   \n",
       "A3797_e     0.028283  0.026276  0.025200  0.025143  0.023914  0.023573   \n",
       "A3798_e     0.024692  0.023229  0.022823  0.022822  0.021488  0.020784   \n",
       "\n",
       "Wavelength     356.0     357.0     358.0     359.0  ...    1364.0    1365.0  \\\n",
       "A3791_e     0.020697  0.020925  0.020588  0.020506  ...  0.005530  0.005461   \n",
       "A3792_e     0.009095  0.008971  0.009065  0.009404  ...  0.002891  0.002791   \n",
       "A3793_e     0.018413  0.017999  0.017348  0.017177  ...  0.004460  0.004216   \n",
       "A3797_e     0.023126  0.021963  0.021399  0.020641  ...  0.003192  0.003058   \n",
       "A3798_e     0.020383  0.019904  0.019754  0.019565  ...  0.004339  0.004128   \n",
       "\n",
       "Wavelength    1366.0    1367.0    1368.0    1369.0    1370.0    1371.0  \\\n",
       "A3791_e     0.005387  0.005297  0.005223  0.005154  0.005089  0.005030   \n",
       "A3792_e     0.002685  0.002567  0.002467  0.002370  0.002278  0.002197   \n",
       "A3793_e     0.003982  0.003744  0.003521  0.003313  0.003111  0.002912   \n",
       "A3797_e     0.002933  0.002817  0.002703  0.002600  0.002496  0.002390   \n",
       "A3798_e     0.003919  0.003715  0.003523  0.003337  0.003151  0.002971   \n",
       "\n",
       "Wavelength    1372.0  Diagnostico  \n",
       "A3791_e     0.004977     Positivo  \n",
       "A3792_e     0.002121     Positivo  \n",
       "A3793_e     0.002729     Positivo  \n",
       "A3797_e     0.002304     Positivo  \n",
       "A3798_e     0.002806     Positivo  \n",
       "\n",
       "[5 rows x 1024 columns]"
      ]
     },
     "execution_count": 10,
     "metadata": {},
     "output_type": "execute_result"
    }
   ],
   "source": [
    "amostras.head()"
   ]
  },
  {
   "cell_type": "markdown",
   "id": "2453233b",
   "metadata": {},
   "source": [
    "SELECIONANDO OS VALORES DE REFLECTÂNCIA DE APENAS ALGUMAS FREQUÊNCIAS"
   ]
  },
  {
   "cell_type": "code",
   "execution_count": 7,
   "id": "f9076062",
   "metadata": {},
   "outputs": [],
   "source": [
    "amostra_freq = tratamento.get_frequencies(amostras=amostras,freq=[900.0,1000.0,1100.0,'Diagnostico'])        \n",
    "\n"
   ]
  },
  {
   "cell_type": "code",
   "execution_count": 45,
   "id": "306a4995",
   "metadata": {},
   "outputs": [
    {
     "data": {
      "text/plain": [
       "(365, 4)"
      ]
     },
     "execution_count": 45,
     "metadata": {},
     "output_type": "execute_result"
    }
   ],
   "source": [
    "amostra_freq.shape"
   ]
  },
  {
   "cell_type": "markdown",
   "id": "acf4a535",
   "metadata": {},
   "source": [
    "SEPARANDO AS AMOSTRAS EM TREINAMENTO E TESTE"
   ]
  },
  {
   "cell_type": "code",
   "execution_count": 19,
   "id": "b5ee005b",
   "metadata": {},
   "outputs": [],
   "source": [
    "X,y = Tratamento.get_samples(Tratamento,amostras=amostra_freq)\n",
    "X_train,X_test,y_train,y_teste = Tratamento.training_test(Tratamento)"
   ]
  },
  {
   "cell_type": "code",
   "execution_count": 28,
   "id": "2ea452eb",
   "metadata": {},
   "outputs": [
    {
     "data": {
      "text/html": [
       "<div>\n",
       "<style scoped>\n",
       "    .dataframe tbody tr th:only-of-type {\n",
       "        vertical-align: middle;\n",
       "    }\n",
       "\n",
       "    .dataframe tbody tr th {\n",
       "        vertical-align: top;\n",
       "    }\n",
       "\n",
       "    .dataframe thead th {\n",
       "        text-align: right;\n",
       "    }\n",
       "</style>\n",
       "<table border=\"1\" class=\"dataframe\">\n",
       "  <thead>\n",
       "    <tr style=\"text-align: right;\">\n",
       "      <th>Wavelength</th>\n",
       "      <th>900.0</th>\n",
       "      <th>1000.0</th>\n",
       "      <th>1100.0</th>\n",
       "    </tr>\n",
       "  </thead>\n",
       "  <tbody>\n",
       "    <tr>\n",
       "      <th>A3168_e</th>\n",
       "      <td>0.422121</td>\n",
       "      <td>0.314203</td>\n",
       "      <td>0.327425</td>\n",
       "    </tr>\n",
       "    <tr>\n",
       "      <th>A2548</th>\n",
       "      <td>0.429617</td>\n",
       "      <td>0.251919</td>\n",
       "      <td>0.138351</td>\n",
       "    </tr>\n",
       "    <tr>\n",
       "      <th>A3244_c</th>\n",
       "      <td>0.354856</td>\n",
       "      <td>0.247393</td>\n",
       "      <td>0.179036</td>\n",
       "    </tr>\n",
       "    <tr>\n",
       "      <th>A2792</th>\n",
       "      <td>0.133492</td>\n",
       "      <td>0.077284</td>\n",
       "      <td>0.061328</td>\n",
       "    </tr>\n",
       "    <tr>\n",
       "      <th>A3785_c</th>\n",
       "      <td>0.597544</td>\n",
       "      <td>0.391515</td>\n",
       "      <td>0.426199</td>\n",
       "    </tr>\n",
       "  </tbody>\n",
       "</table>\n",
       "</div>"
      ],
      "text/plain": [
       "Wavelength    900.0     1000.0    1100.0\n",
       "A3168_e     0.422121  0.314203  0.327425\n",
       "A2548       0.429617  0.251919  0.138351\n",
       "A3244_c     0.354856  0.247393  0.179036\n",
       "A2792       0.133492  0.077284  0.061328\n",
       "A3785_c     0.597544  0.391515  0.426199"
      ]
     },
     "execution_count": 28,
     "metadata": {},
     "output_type": "execute_result"
    }
   ],
   "source": [
    "X_test.head()"
   ]
  },
  {
   "cell_type": "code",
   "execution_count": 20,
   "id": "d59d5569",
   "metadata": {},
   "outputs": [],
   "source": [
    "modelos = Modelos()"
   ]
  },
  {
   "cell_type": "markdown",
   "id": "87301ae1",
   "metadata": {},
   "source": [
    "TREINANDO MODELO SVM"
   ]
  },
  {
   "cell_type": "code",
   "execution_count": 23,
   "id": "422b5452",
   "metadata": {},
   "outputs": [],
   "source": [
    "clf_svm = modelos.SVM(X_train,y_train)"
   ]
  },
  {
   "cell_type": "code",
   "execution_count": 26,
   "id": "408858f9",
   "metadata": {},
   "outputs": [
    {
     "data": {
      "text/plain": [
       "(37,)"
      ]
     },
     "execution_count": 26,
     "metadata": {},
     "output_type": "execute_result"
    }
   ],
   "source": [
    "y_teste.shape"
   ]
  },
  {
   "cell_type": "code",
   "execution_count": 24,
   "id": "cf687bcd",
   "metadata": {},
   "outputs": [
    {
     "data": {
      "text/plain": [
       "<sklearn.metrics._plot.confusion_matrix.ConfusionMatrixDisplay at 0x26223420cf8>"
      ]
     },
     "execution_count": 24,
     "metadata": {},
     "output_type": "execute_result"
    },
    {
     "data": {
      "image/png": "[encoded data removed]",
      "text/plain": [
       "<Figure size 432x288 with 2 Axes>"
      ]
     },
     "metadata": {
      "needs_background": "light"
     },
     "output_type": "display_data"
    }
   ],
   "source": [
    "plot_confusion_matrix(clf_svm,X_test,y_teste,display_labels=['Negativo','Positivo'])"
   ]
  },
  {
   "cell_type": "markdown",
   "id": "97788207",
   "metadata": {},
   "source": [
    "TREINANDO MODELO NN"
   ]
  },
  {
   "cell_type": "code",
   "execution_count": 83,
   "id": "9ed3445a",
   "metadata": {},
   "outputs": [],
   "source": [
    "nn = Modelos.NN(Modelos,X_train,y_train)"
   ]
  },
  {
   "cell_type": "code",
   "execution_count": 84,
   "id": "c2781df6",
   "metadata": {},
   "outputs": [],
   "source": [
    "y_predict = nn.predict(X_test.to_numpy())\n",
    "y_predict_1 =  np.where(y_predict  > 0.5, 1, 0)"
   ]
  },
  {
   "cell_type": "code",
   "execution_count": 94,
   "id": "fd31ceb8",
   "metadata": {},
   "outputs": [
    {
     "name": "stdout",
     "output_type": "stream",
     "text": [
      "[[0.4831077 ]\n",
      " [0.500621  ]\n",
      " [0.49625027]\n",
      " [0.5115009 ]\n",
      " [0.47208115]]\n"
     ]
    }
   ],
   "source": [
    "print(y_predict[0:5])"
   ]
  },
  {
   "cell_type": "code",
   "execution_count": 96,
   "id": "6b123e21",
   "metadata": {},
   "outputs": [
    {
     "data": {
      "image/png": "[encoded data removed]",
      "text/plain": [
       "<Figure size 432x432 with 1 Axes>"
      ]
     },
     "metadata": {
      "needs_background": "light"
     },
     "output_type": "display_data"
    }
   ],
   "source": [
    "Tratamento.confusion(Tratamento,y_teste.astype(int),y_predict_1)"
   ]
  }
 ],
 "metadata": {
  "kernelspec": {
   "display_name": "Python 3 (ipykernel)",
   "language": "python",
   "name": "python3"
  },
  "language_info": {
   "codemirror_mode": {
    "name": "ipython",
    "version": 3
   },
   "file_extension": ".py",
   "mimetype": "text/x-python",
   "name": "python",
   "nbconvert_exporter": "python",
   "pygments_lexer": "ipython3",
   "version": "3.7.0"
  }
 },
 "nbformat": 4,
 "nbformat_minor": 5
}
