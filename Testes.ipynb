{
 "cells": [
  {
   "cell_type": "code",
   "execution_count": 1,
   "id": "d5c69b0b",
   "metadata": {},
   "outputs": [],
   "source": [
    "from tratamento_module import *\n",
    "from modelos_module import *\n",
    "import numpy as np\n",
    "import pandas as pd\n",
    "import warnings\n",
    "import importlib\n",
    "from IPython.lib.deepreload import reload\n",
    "from sklearn.metrics import plot_confusion_matrix\n",
    "%load_ext autoreload\n",
    "%autoreload 2\n"
   ]
  },
  {
   "cell_type": "code",
   "execution_count": 2,
   "id": "9d4dd6e2",
   "metadata": {},
   "outputs": [],
   "source": [
    "warnings.filterwarnings(\"ignore\")\n",
    "\n",
    "tratamento = Tratamento()"
   ]
  },
  {
   "cell_type": "code",
   "execution_count": 3,
   "id": "b32f7235",
   "metadata": {},
   "outputs": [],
   "source": [
    "amostras = tratamento.amostras_import()\n"
   ]
  },
  {
   "cell_type": "markdown",
   "id": "31331e79",
   "metadata": {},
   "source": [
    "IMPORTANDO AS AMOSTRAS "
   ]
  },
  {
   "cell_type": "code",
   "execution_count": 4,
   "id": "5f415f37",
   "metadata": {},
   "outputs": [
    {
     "data": {
      "text/html": [
       "<div>\n",
       "<style scoped>\n",
       "    .dataframe tbody tr th:only-of-type {\n",
       "        vertical-align: middle;\n",
       "    }\n",
       "\n",
       "    .dataframe tbody tr th {\n",
       "        vertical-align: top;\n",
       "    }\n",
       "\n",
       "    .dataframe thead th {\n",
       "        text-align: right;\n",
       "    }\n",
       "</style>\n",
       "<table border=\"1\" class=\"dataframe\">\n",
       "  <thead>\n",
       "    <tr style=\"text-align: right;\">\n",
       "      <th>Wavelength</th>\n",
       "      <th>350.0</th>\n",
       "      <th>351.0</th>\n",
       "      <th>352.0</th>\n",
       "      <th>353.0</th>\n",
       "      <th>354.0</th>\n",
       "      <th>355.0</th>\n",
       "      <th>356.0</th>\n",
       "      <th>357.0</th>\n",
       "      <th>358.0</th>\n",
       "      <th>359.0</th>\n",
       "      <th>...</th>\n",
       "      <th>1364.0</th>\n",
       "      <th>1365.0</th>\n",
       "      <th>1366.0</th>\n",
       "      <th>1367.0</th>\n",
       "      <th>1368.0</th>\n",
       "      <th>1369.0</th>\n",
       "      <th>1370.0</th>\n",
       "      <th>1371.0</th>\n",
       "      <th>1372.0</th>\n",
       "      <th>Diagnostico</th>\n",
       "    </tr>\n",
       "  </thead>\n",
       "  <tbody>\n",
       "    <tr>\n",
       "      <th>A3791_e</th>\n",
       "      <td>0.023225</td>\n",
       "      <td>0.023256</td>\n",
       "      <td>0.023233</td>\n",
       "      <td>0.022841</td>\n",
       "      <td>0.020918</td>\n",
       "      <td>0.020383</td>\n",
       "      <td>0.020697</td>\n",
       "      <td>0.020925</td>\n",
       "      <td>0.020588</td>\n",
       "      <td>0.020506</td>\n",
       "      <td>...</td>\n",
       "      <td>0.005530</td>\n",
       "      <td>0.005461</td>\n",
       "      <td>0.005387</td>\n",
       "      <td>0.005297</td>\n",
       "      <td>0.005223</td>\n",
       "      <td>0.005154</td>\n",
       "      <td>0.005089</td>\n",
       "      <td>0.005030</td>\n",
       "      <td>0.004977</td>\n",
       "      <td>Positivo</td>\n",
       "    </tr>\n",
       "    <tr>\n",
       "      <th>A3792_e</th>\n",
       "      <td>0.011012</td>\n",
       "      <td>0.009415</td>\n",
       "      <td>0.009336</td>\n",
       "      <td>0.010466</td>\n",
       "      <td>0.010308</td>\n",
       "      <td>0.009649</td>\n",
       "      <td>0.009095</td>\n",
       "      <td>0.008971</td>\n",
       "      <td>0.009065</td>\n",
       "      <td>0.009404</td>\n",
       "      <td>...</td>\n",
       "      <td>0.002891</td>\n",
       "      <td>0.002791</td>\n",
       "      <td>0.002685</td>\n",
       "      <td>0.002567</td>\n",
       "      <td>0.002467</td>\n",
       "      <td>0.002370</td>\n",
       "      <td>0.002278</td>\n",
       "      <td>0.002197</td>\n",
       "      <td>0.002121</td>\n",
       "      <td>Positivo</td>\n",
       "    </tr>\n",
       "    <tr>\n",
       "      <th>A3793_e</th>\n",
       "      <td>0.022587</td>\n",
       "      <td>0.022717</td>\n",
       "      <td>0.022223</td>\n",
       "      <td>0.020916</td>\n",
       "      <td>0.019812</td>\n",
       "      <td>0.018976</td>\n",
       "      <td>0.018413</td>\n",
       "      <td>0.017999</td>\n",
       "      <td>0.017348</td>\n",
       "      <td>0.017177</td>\n",
       "      <td>...</td>\n",
       "      <td>0.004460</td>\n",
       "      <td>0.004216</td>\n",
       "      <td>0.003982</td>\n",
       "      <td>0.003744</td>\n",
       "      <td>0.003521</td>\n",
       "      <td>0.003313</td>\n",
       "      <td>0.003111</td>\n",
       "      <td>0.002912</td>\n",
       "      <td>0.002729</td>\n",
       "      <td>Positivo</td>\n",
       "    </tr>\n",
       "    <tr>\n",
       "      <th>A3797_e</th>\n",
       "      <td>0.028283</td>\n",
       "      <td>0.026276</td>\n",
       "      <td>0.025200</td>\n",
       "      <td>0.025143</td>\n",
       "      <td>0.023914</td>\n",
       "      <td>0.023573</td>\n",
       "      <td>0.023126</td>\n",
       "      <td>0.021963</td>\n",
       "      <td>0.021399</td>\n",
       "      <td>0.020641</td>\n",
       "      <td>...</td>\n",
       "      <td>0.003192</td>\n",
       "      <td>0.003058</td>\n",
       "      <td>0.002933</td>\n",
       "      <td>0.002817</td>\n",
       "      <td>0.002703</td>\n",
       "      <td>0.002600</td>\n",
       "      <td>0.002496</td>\n",
       "      <td>0.002390</td>\n",
       "      <td>0.002304</td>\n",
       "      <td>Positivo</td>\n",
       "    </tr>\n",
       "    <tr>\n",
       "      <th>A3798_e</th>\n",
       "      <td>0.024692</td>\n",
       "      <td>0.023229</td>\n",
       "      <td>0.022823</td>\n",
       "      <td>0.022822</td>\n",
       "      <td>0.021488</td>\n",
       "      <td>0.020784</td>\n",
       "      <td>0.020383</td>\n",
       "      <td>0.019904</td>\n",
       "      <td>0.019754</td>\n",
       "      <td>0.019565</td>\n",
       "      <td>...</td>\n",
       "      <td>0.004339</td>\n",
       "      <td>0.004128</td>\n",
       "      <td>0.003919</td>\n",
       "      <td>0.003715</td>\n",
       "      <td>0.003523</td>\n",
       "      <td>0.003337</td>\n",
       "      <td>0.003151</td>\n",
       "      <td>0.002971</td>\n",
       "      <td>0.002806</td>\n",
       "      <td>Positivo</td>\n",
       "    </tr>\n",
       "  </tbody>\n",
       "</table>\n",
       "<p>5 rows × 1024 columns</p>\n",
       "</div>"
      ],
      "text/plain": [
       "Wavelength     350.0     351.0     352.0     353.0     354.0     355.0  \\\n",
       "A3791_e     0.023225  0.023256  0.023233  0.022841  0.020918  0.020383   \n",
       "A3792_e     0.011012  0.009415  0.009336  0.010466  0.010308  0.009649   \n",
       "A3793_e     0.022587  0.022717  0.022223  0.020916  0.019812  0.018976   \n",
       "A3797_e     0.028283  0.026276  0.025200  0.025143  0.023914  0.023573   \n",
       "A3798_e     0.024692  0.023229  0.022823  0.022822  0.021488  0.020784   \n",
       "\n",
       "Wavelength     356.0     357.0     358.0     359.0  ...    1364.0    1365.0  \\\n",
       "A3791_e     0.020697  0.020925  0.020588  0.020506  ...  0.005530  0.005461   \n",
       "A3792_e     0.009095  0.008971  0.009065  0.009404  ...  0.002891  0.002791   \n",
       "A3793_e     0.018413  0.017999  0.017348  0.017177  ...  0.004460  0.004216   \n",
       "A3797_e     0.023126  0.021963  0.021399  0.020641  ...  0.003192  0.003058   \n",
       "A3798_e     0.020383  0.019904  0.019754  0.019565  ...  0.004339  0.004128   \n",
       "\n",
       "Wavelength    1366.0    1367.0    1368.0    1369.0    1370.0    1371.0  \\\n",
       "A3791_e     0.005387  0.005297  0.005223  0.005154  0.005089  0.005030   \n",
       "A3792_e     0.002685  0.002567  0.002467  0.002370  0.002278  0.002197   \n",
       "A3793_e     0.003982  0.003744  0.003521  0.003313  0.003111  0.002912   \n",
       "A3797_e     0.002933  0.002817  0.002703  0.002600  0.002496  0.002390   \n",
       "A3798_e     0.003919  0.003715  0.003523  0.003337  0.003151  0.002971   \n",
       "\n",
       "Wavelength    1372.0  Diagnostico  \n",
       "A3791_e     0.004977     Positivo  \n",
       "A3792_e     0.002121     Positivo  \n",
       "A3793_e     0.002729     Positivo  \n",
       "A3797_e     0.002304     Positivo  \n",
       "A3798_e     0.002806     Positivo  \n",
       "\n",
       "[5 rows x 1024 columns]"
      ]
     },
     "execution_count": 4,
     "metadata": {},
     "output_type": "execute_result"
    }
   ],
   "source": [
    "amostras.head()"
   ]
  },
  {
   "cell_type": "markdown",
   "id": "2453233b",
   "metadata": {},
   "source": [
    "SELECIONANDO OS VALORES DE REFLECTÂNCIA DE APENAS ALGUMAS FREQUÊNCIAS"
   ]
  },
  {
   "cell_type": "code",
   "execution_count": 5,
   "id": "f9076062",
   "metadata": {},
   "outputs": [],
   "source": [
    "amostra_freq = tratamento.get_frequencies(amostras=amostras,freq=[900.0,1000.0,1100.0,'Diagnostico'])        \n",
    "\n"
   ]
  },
  {
   "cell_type": "code",
   "execution_count": 45,
   "id": "306a4995",
   "metadata": {},
   "outputs": [
    {
     "data": {
      "text/plain": [
       "(365, 4)"
      ]
     },
     "execution_count": 45,
     "metadata": {},
     "output_type": "execute_result"
    }
   ],
   "source": [
    "amostra_freq.shape"
   ]
  },
  {
   "cell_type": "markdown",
   "id": "acf4a535",
   "metadata": {},
   "source": [
    "SEPARANDO AS AMOSTRAS EM TREINAMENTO E TESTE"
   ]
  },
  {
   "cell_type": "code",
   "execution_count": 6,
   "id": "b5ee005b",
   "metadata": {},
   "outputs": [],
   "source": [
    "X,y = Tratamento.get_samples(Tratamento,amostras=amostra_freq)\n",
    "X_train,X_test,y_train,y_teste = Tratamento.training_test(Tratamento)"
   ]
  },
  {
   "cell_type": "code",
   "execution_count": 7,
   "id": "2ea452eb",
   "metadata": {},
   "outputs": [
    {
     "data": {
      "text/html": [
       "<div>\n",
       "<style scoped>\n",
       "    .dataframe tbody tr th:only-of-type {\n",
       "        vertical-align: middle;\n",
       "    }\n",
       "\n",
       "    .dataframe tbody tr th {\n",
       "        vertical-align: top;\n",
       "    }\n",
       "\n",
       "    .dataframe thead th {\n",
       "        text-align: right;\n",
       "    }\n",
       "</style>\n",
       "<table border=\"1\" class=\"dataframe\">\n",
       "  <thead>\n",
       "    <tr style=\"text-align: right;\">\n",
       "      <th>Wavelength</th>\n",
       "      <th>900.0</th>\n",
       "      <th>1000.0</th>\n",
       "      <th>1100.0</th>\n",
       "    </tr>\n",
       "  </thead>\n",
       "  <tbody>\n",
       "    <tr>\n",
       "      <th>A3168_e</th>\n",
       "      <td>0.422121</td>\n",
       "      <td>0.314203</td>\n",
       "      <td>0.327425</td>\n",
       "    </tr>\n",
       "    <tr>\n",
       "      <th>A2548</th>\n",
       "      <td>0.429617</td>\n",
       "      <td>0.251919</td>\n",
       "      <td>0.138351</td>\n",
       "    </tr>\n",
       "    <tr>\n",
       "      <th>A3244_c</th>\n",
       "      <td>0.354856</td>\n",
       "      <td>0.247393</td>\n",
       "      <td>0.179036</td>\n",
       "    </tr>\n",
       "    <tr>\n",
       "      <th>A2792</th>\n",
       "      <td>0.133492</td>\n",
       "      <td>0.077284</td>\n",
       "      <td>0.061328</td>\n",
       "    </tr>\n",
       "    <tr>\n",
       "      <th>A3785_c</th>\n",
       "      <td>0.597544</td>\n",
       "      <td>0.391515</td>\n",
       "      <td>0.426199</td>\n",
       "    </tr>\n",
       "  </tbody>\n",
       "</table>\n",
       "</div>"
      ],
      "text/plain": [
       "Wavelength    900.0     1000.0    1100.0\n",
       "A3168_e     0.422121  0.314203  0.327425\n",
       "A2548       0.429617  0.251919  0.138351\n",
       "A3244_c     0.354856  0.247393  0.179036\n",
       "A2792       0.133492  0.077284  0.061328\n",
       "A3785_c     0.597544  0.391515  0.426199"
      ]
     },
     "execution_count": 7,
     "metadata": {},
     "output_type": "execute_result"
    }
   ],
   "source": [
    "X_test.head()"
   ]
  },
  {
   "cell_type": "markdown",
   "id": "3e53b9b7",
   "metadata": {},
   "source": [
    "Classe para realizar a importação dos Modelos utilizados"
   ]
  },
  {
   "cell_type": "code",
   "execution_count": 8,
   "id": "d59d5569",
   "metadata": {},
   "outputs": [],
   "source": [
    "modelos = Modelos(X_train = X_train,y_train = y_train)"
   ]
  },
  {
   "cell_type": "markdown",
   "id": "87301ae1",
   "metadata": {},
   "source": [
    "TREINANDO MODELO SVM"
   ]
  },
  {
   "cell_type": "code",
   "execution_count": 10,
   "id": "422b5452",
   "metadata": {},
   "outputs": [],
   "source": [
    "clf_svm = modelos.SVM()"
   ]
  },
  {
   "cell_type": "code",
   "execution_count": 26,
   "id": "408858f9",
   "metadata": {},
   "outputs": [
    {
     "data": {
      "text/plain": [
       "(37,)"
      ]
     },
     "execution_count": 26,
     "metadata": {},
     "output_type": "execute_result"
    }
   ],
   "source": [
    "y_teste.shape"
   ]
  },
  {
   "cell_type": "code",
   "execution_count": 11,
   "id": "cf687bcd",
   "metadata": {},
   "outputs": [
    {
     "data": {
      "text/plain": [
       "<sklearn.metrics._plot.confusion_matrix.ConfusionMatrixDisplay at 0x1da5f006c18>"
      ]
     },
     "execution_count": 11,
     "metadata": {},
     "output_type": "execute_result"
    },
    {
     "data": {
      "image/png": "[encoded data removed]",
      "text/plain": [
       "<Figure size 432x288 with 2 Axes>"
      ]
     },
     "metadata": {
      "needs_background": "light"
     },
     "output_type": "display_data"
    }
   ],
   "source": [
    "plot_confusion_matrix(clf_svm,X_test,y_teste,display_labels=['Negativo','Positivo'])"
   ]
  },
  {
   "cell_type": "markdown",
   "id": "97788207",
   "metadata": {},
   "source": [
    "TREINANDO MODELO NN"
   ]
  },
  {
   "cell_type": "code",
   "execution_count": 16,
   "id": "9ed3445a",
   "metadata": {},
   "outputs": [
    {
     "name": "stdout",
     "output_type": "stream",
     "text": [
      "WARNING:tensorflow:From C:\\Users\\sodre\\anaconda3\\envs\\TCC\\lib\\site-packages\\tensorflow_core\\python\\ops\\resource_variable_ops.py:1630: calling BaseResourceVariable.__init__ (from tensorflow.python.ops.resource_variable_ops) with constraint is deprecated and will be removed in a future version.\n",
      "Instructions for updating:\n",
      "If using Keras pass *_constraint arguments to layers.\n",
      "WARNING:tensorflow:From C:\\Users\\sodre\\anaconda3\\envs\\TCC\\lib\\site-packages\\tensorflow_core\\python\\ops\\math_grad.py:1424: where (from tensorflow.python.ops.array_ops) is deprecated and will be removed in a future version.\n",
      "Instructions for updating:\n",
      "Use tf.where in 2.0, which has the same broadcast rule as np.where\n"
     ]
    }
   ],
   "source": [
    "nn = modelos.NN()"
   ]
  },
  {
   "cell_type": "code",
   "execution_count": 17,
   "id": "c2781df6",
   "metadata": {},
   "outputs": [],
   "source": [
    "y_predict = nn.predict(X_test.to_numpy())\n",
    "y_predict_1 =  np.where(y_predict  > 0.5, 1, 0)"
   ]
  },
  {
   "cell_type": "code",
   "execution_count": 94,
   "id": "fd31ceb8",
   "metadata": {},
   "outputs": [
    {
     "name": "stdout",
     "output_type": "stream",
     "text": [
      "[[0.4831077 ]\n",
      " [0.500621  ]\n",
      " [0.49625027]\n",
      " [0.5115009 ]\n",
      " [0.47208115]]\n"
     ]
    }
   ],
   "source": [
    "print(y_predict[0:5])"
   ]
  },
  {
   "cell_type": "code",
   "execution_count": 19,
   "id": "6b123e21",
   "metadata": {},
   "outputs": [
    {
     "data": {
      "image/png": "[encoded data removed]",
      "text/plain": [
       "<Figure size 432x432 with 1 Axes>"
      ]
     },
     "metadata": {
      "needs_background": "light"
     },
     "output_type": "display_data"
    }
   ],
   "source": [
    "tratamento.confusion(y_teste.astype(int),y_predict_1)\n"
   ]
  },
  {
   "cell_type": "markdown",
   "id": "3440ad8e",
   "metadata": {},
   "source": [
    "SVM Utilizando Grid e Cross-Validation"
   ]
  },
  {
   "cell_type": "code",
   "execution_count": 23,
   "id": "3cfbd73c",
   "metadata": {},
   "outputs": [],
   "source": [
    "svm_grid = modelos.SVM_GRID()"
   ]
  },
  {
   "cell_type": "code",
   "execution_count": 25,
   "id": "f07a3018",
   "metadata": {},
   "outputs": [
    {
     "data": {
      "text/plain": [
       "{'C': 0.5, 'gamma': 'scale', 'kernel': 'rbf'}"
      ]
     },
     "execution_count": 25,
     "metadata": {},
     "output_type": "execute_result"
    }
   ],
   "source": [
    "svm_grid.best_params_"
   ]
  },
  {
   "cell_type": "code",
   "execution_count": 27,
   "id": "deb87f65",
   "metadata": {},
   "outputs": [
    {
     "data": {
      "text/plain": [
       "<sklearn.metrics._plot.confusion_matrix.ConfusionMatrixDisplay at 0x1da5fe3b550>"
      ]
     },
     "execution_count": 27,
     "metadata": {},
     "output_type": "execute_result"
    },
    {
     "data": {
      "image/png": "[encoded data removed]",
      "text/plain": [
       "<Figure size 432x288 with 2 Axes>"
      ]
     },
     "metadata": {
      "needs_background": "light"
     },
     "output_type": "display_data"
    }
   ],
   "source": [
    "plot_confusion_matrix(svm_grid,X_test,y_teste,display_labels=['Negativo','Positivo'])"
   ]
  },
  {
   "cell_type": "markdown",
   "id": "05520dfc",
   "metadata": {},
   "source": [
    "SELECIONANDO VALORES A PARTIR DE 900nm"
   ]
  },
  {
   "cell_type": "code",
   "execution_count": 5,
   "id": "8ead0772",
   "metadata": {},
   "outputs": [
    {
     "ename": "KeyError",
     "evalue": "(900,)",
     "output_type": "error",
     "traceback": [
      "\u001b[1;31m---------------------------------------------------------------------------\u001b[0m",
      "\u001b[1;31mKeyError\u001b[0m                                  Traceback (most recent call last)",
      "\u001b[1;32m~\\anaconda3\\envs\\TCC\\lib\\site-packages\\pandas\\core\\indexes\\base.py\u001b[0m in \u001b[0;36mget_loc\u001b[1;34m(self, key, method, tolerance)\u001b[0m\n\u001b[0;32m   2897\u001b[0m             \u001b[1;32mtry\u001b[0m\u001b[1;33m:\u001b[0m\u001b[1;33m\u001b[0m\u001b[0m\n\u001b[1;32m-> 2898\u001b[1;33m                 \u001b[1;32mreturn\u001b[0m \u001b[0mself\u001b[0m\u001b[1;33m.\u001b[0m\u001b[0m_engine\u001b[0m\u001b[1;33m.\u001b[0m\u001b[0mget_loc\u001b[0m\u001b[1;33m(\u001b[0m\u001b[0mcasted_key\u001b[0m\u001b[1;33m)\u001b[0m\u001b[1;33m\u001b[0m\u001b[0m\n\u001b[0m\u001b[0;32m   2899\u001b[0m             \u001b[1;32mexcept\u001b[0m \u001b[0mKeyError\u001b[0m \u001b[1;32mas\u001b[0m \u001b[0merr\u001b[0m\u001b[1;33m:\u001b[0m\u001b[1;33m\u001b[0m\u001b[0m\n",
      "\u001b[1;32mpandas\\_libs\\index.pyx\u001b[0m in \u001b[0;36mpandas._libs.index.IndexEngine.get_loc\u001b[1;34m()\u001b[0m\n",
      "\u001b[1;32mpandas\\_libs\\index.pyx\u001b[0m in \u001b[0;36mpandas._libs.index.IndexEngine.get_loc\u001b[1;34m()\u001b[0m\n",
      "\u001b[1;32mpandas\\_libs\\hashtable_class_helper.pxi\u001b[0m in \u001b[0;36mpandas._libs.hashtable.PyObjectHashTable.get_item\u001b[1;34m()\u001b[0m\n",
      "\u001b[1;32mpandas\\_libs\\hashtable_class_helper.pxi\u001b[0m in \u001b[0;36mpandas._libs.hashtable.PyObjectHashTable.get_item\u001b[1;34m()\u001b[0m\n",
      "\u001b[1;31mKeyError\u001b[0m: (900,)",
      "\nThe above exception was the direct cause of the following exception:\n",
      "\u001b[1;31mKeyError\u001b[0m                                  Traceback (most recent call last)",
      "\u001b[1;32m~\\AppData\\Local\\Temp\\ipykernel_16172\\3964268410.py\u001b[0m in \u001b[0;36m<module>\u001b[1;34m\u001b[0m\n\u001b[1;32m----> 1\u001b[1;33m \u001b[0mamostras_freq9\u001b[0m \u001b[1;33m=\u001b[0m \u001b[0mtratamento\u001b[0m\u001b[1;33m.\u001b[0m\u001b[0mget_frequencies_from\u001b[0m\u001b[1;33m(\u001b[0m\u001b[0mamostras\u001b[0m\u001b[1;33m,\u001b[0m\u001b[1;36m900\u001b[0m\u001b[1;33m)\u001b[0m\u001b[1;33m\u001b[0m\u001b[0m\n\u001b[0m",
      "\u001b[1;32mc:\\Users\\sodre\\TCC\\TCC\\tratamento_module.py\u001b[0m in \u001b[0;36mget_frequencies_from\u001b[1;34m(self, amostras, freq)\u001b[0m\n\u001b[0;32m     39\u001b[0m \u001b[1;33m\u001b[0m\u001b[0m\n\u001b[0;32m     40\u001b[0m     \u001b[1;32mdef\u001b[0m \u001b[0mget_frequencies_from\u001b[0m\u001b[1;33m(\u001b[0m\u001b[0mself\u001b[0m\u001b[1;33m,\u001b[0m\u001b[0mamostras\u001b[0m\u001b[1;33m,\u001b[0m\u001b[0mfreq\u001b[0m\u001b[1;33m)\u001b[0m\u001b[1;33m:\u001b[0m\u001b[1;33m\u001b[0m\u001b[0m\n\u001b[1;32m---> 41\u001b[1;33m         \u001b[0mamostras\u001b[0m \u001b[1;33m=\u001b[0m \u001b[0mamostras\u001b[0m\u001b[1;33m[\u001b[0m\u001b[0mfreq\u001b[0m\u001b[1;33m,\u001b[0m\u001b[1;33m]\u001b[0m\u001b[1;33m\u001b[0m\u001b[0m\n\u001b[0m\u001b[0;32m     42\u001b[0m         \u001b[1;32mreturn\u001b[0m \u001b[0mamostras\u001b[0m\u001b[1;33m\u001b[0m\u001b[0m\n\u001b[0;32m     43\u001b[0m \u001b[1;33m\u001b[0m\u001b[0m\n",
      "\u001b[1;32m~\\anaconda3\\envs\\TCC\\lib\\site-packages\\pandas\\core\\frame.py\u001b[0m in \u001b[0;36m__getitem__\u001b[1;34m(self, key)\u001b[0m\n\u001b[0;32m   2904\u001b[0m             \u001b[1;32mif\u001b[0m \u001b[0mself\u001b[0m\u001b[1;33m.\u001b[0m\u001b[0mcolumns\u001b[0m\u001b[1;33m.\u001b[0m\u001b[0mnlevels\u001b[0m \u001b[1;33m>\u001b[0m \u001b[1;36m1\u001b[0m\u001b[1;33m:\u001b[0m\u001b[1;33m\u001b[0m\u001b[0m\n\u001b[0;32m   2905\u001b[0m                 \u001b[1;32mreturn\u001b[0m \u001b[0mself\u001b[0m\u001b[1;33m.\u001b[0m\u001b[0m_getitem_multilevel\u001b[0m\u001b[1;33m(\u001b[0m\u001b[0mkey\u001b[0m\u001b[1;33m)\u001b[0m\u001b[1;33m\u001b[0m\u001b[0m\n\u001b[1;32m-> 2906\u001b[1;33m             \u001b[0mindexer\u001b[0m \u001b[1;33m=\u001b[0m \u001b[0mself\u001b[0m\u001b[1;33m.\u001b[0m\u001b[0mcolumns\u001b[0m\u001b[1;33m.\u001b[0m\u001b[0mget_loc\u001b[0m\u001b[1;33m(\u001b[0m\u001b[0mkey\u001b[0m\u001b[1;33m)\u001b[0m\u001b[1;33m\u001b[0m\u001b[0m\n\u001b[0m\u001b[0;32m   2907\u001b[0m             \u001b[1;32mif\u001b[0m \u001b[0mis_integer\u001b[0m\u001b[1;33m(\u001b[0m\u001b[0mindexer\u001b[0m\u001b[1;33m)\u001b[0m\u001b[1;33m:\u001b[0m\u001b[1;33m\u001b[0m\u001b[0m\n\u001b[0;32m   2908\u001b[0m                 \u001b[0mindexer\u001b[0m \u001b[1;33m=\u001b[0m \u001b[1;33m[\u001b[0m\u001b[0mindexer\u001b[0m\u001b[1;33m]\u001b[0m\u001b[1;33m\u001b[0m\u001b[0m\n",
      "\u001b[1;32m~\\anaconda3\\envs\\TCC\\lib\\site-packages\\pandas\\core\\indexes\\base.py\u001b[0m in \u001b[0;36mget_loc\u001b[1;34m(self, key, method, tolerance)\u001b[0m\n\u001b[0;32m   2898\u001b[0m                 \u001b[1;32mreturn\u001b[0m \u001b[0mself\u001b[0m\u001b[1;33m.\u001b[0m\u001b[0m_engine\u001b[0m\u001b[1;33m.\u001b[0m\u001b[0mget_loc\u001b[0m\u001b[1;33m(\u001b[0m\u001b[0mcasted_key\u001b[0m\u001b[1;33m)\u001b[0m\u001b[1;33m\u001b[0m\u001b[0m\n\u001b[0;32m   2899\u001b[0m             \u001b[1;32mexcept\u001b[0m \u001b[0mKeyError\u001b[0m \u001b[1;32mas\u001b[0m \u001b[0merr\u001b[0m\u001b[1;33m:\u001b[0m\u001b[1;33m\u001b[0m\u001b[0m\n\u001b[1;32m-> 2900\u001b[1;33m                 \u001b[1;32mraise\u001b[0m \u001b[0mKeyError\u001b[0m\u001b[1;33m(\u001b[0m\u001b[0mkey\u001b[0m\u001b[1;33m)\u001b[0m \u001b[1;32mfrom\u001b[0m \u001b[0merr\u001b[0m\u001b[1;33m\u001b[0m\u001b[0m\n\u001b[0m\u001b[0;32m   2901\u001b[0m \u001b[1;33m\u001b[0m\u001b[0m\n\u001b[0;32m   2902\u001b[0m         \u001b[1;32mif\u001b[0m \u001b[0mtolerance\u001b[0m \u001b[1;32mis\u001b[0m \u001b[1;32mnot\u001b[0m \u001b[1;32mNone\u001b[0m\u001b[1;33m:\u001b[0m\u001b[1;33m\u001b[0m\u001b[0m\n",
      "\u001b[1;31mKeyError\u001b[0m: (900,)"
     ]
    }
   ],
   "source": [
    "amostras_freq9 = tratamento.get_frequencies_from(amostras,900)"
   ]
  },
  {
   "cell_type": "code",
   "execution_count": 6,
   "id": "24f79789",
   "metadata": {},
   "outputs": [],
   "source": [
    "amostras_freq9 = amostras.iloc[900:,]"
   ]
  },
  {
   "cell_type": "code",
   "execution_count": 7,
   "id": "fb936dad",
   "metadata": {},
   "outputs": [
    {
     "data": {
      "text/html": [
       "<div>\n",
       "<style scoped>\n",
       "    .dataframe tbody tr th:only-of-type {\n",
       "        vertical-align: middle;\n",
       "    }\n",
       "\n",
       "    .dataframe tbody tr th {\n",
       "        vertical-align: top;\n",
       "    }\n",
       "\n",
       "    .dataframe thead th {\n",
       "        text-align: right;\n",
       "    }\n",
       "</style>\n",
       "<table border=\"1\" class=\"dataframe\">\n",
       "  <thead>\n",
       "    <tr style=\"text-align: right;\">\n",
       "      <th>Wavelength</th>\n",
       "      <th>350.0</th>\n",
       "      <th>351.0</th>\n",
       "      <th>352.0</th>\n",
       "      <th>353.0</th>\n",
       "      <th>354.0</th>\n",
       "      <th>355.0</th>\n",
       "      <th>356.0</th>\n",
       "      <th>357.0</th>\n",
       "      <th>358.0</th>\n",
       "      <th>359.0</th>\n",
       "      <th>...</th>\n",
       "      <th>1364.0</th>\n",
       "      <th>1365.0</th>\n",
       "      <th>1366.0</th>\n",
       "      <th>1367.0</th>\n",
       "      <th>1368.0</th>\n",
       "      <th>1369.0</th>\n",
       "      <th>1370.0</th>\n",
       "      <th>1371.0</th>\n",
       "      <th>1372.0</th>\n",
       "      <th>Diagnostico</th>\n",
       "    </tr>\n",
       "  </thead>\n",
       "  <tbody>\n",
       "  </tbody>\n",
       "</table>\n",
       "<p>0 rows × 1024 columns</p>\n",
       "</div>"
      ],
      "text/plain": [
       "Empty DataFrame\n",
       "Columns: [350.0, 351.0, 352.0, 353.0, 354.0, 355.0, 356.0, 357.0, 358.0, 359.0, 360.0, 361.0, 362.0, 363.0, 364.0, 365.0, 366.0, 367.0, 368.0, 369.0, 370.0, 371.0, 372.0, 373.0, 374.0, 375.0, 376.0, 377.0, 378.0, 379.0, 380.0, 381.0, 382.0, 383.0, 384.0, 385.0, 386.0, 387.0, 388.0, 389.0, 390.0, 391.0, 392.0, 393.0, 394.0, 395.0, 396.0, 397.0, 398.0, 399.0, 400.0, 401.0, 402.0, 403.0, 404.0, 405.0, 406.0, 407.0, 408.0, 409.0, 410.0, 411.0, 412.0, 413.0, 414.0, 415.0, 416.0, 417.0, 418.0, 419.0, 420.0, 421.0, 422.0, 423.0, 424.0, 425.0, 426.0, 427.0, 428.0, 429.0, 430.0, 431.0, 432.0, 433.0, 434.0, 435.0, 436.0, 437.0, 438.0, 439.0, 440.0, 441.0, 442.0, 443.0, 444.0, 445.0, 446.0, 447.0, 448.0, 449.0, ...]\n",
       "Index: []\n",
       "\n",
       "[0 rows x 1024 columns]"
      ]
     },
     "execution_count": 7,
     "metadata": {},
     "output_type": "execute_result"
    }
   ],
   "source": [
    "amostras_freq9"
   ]
  },
  {
   "cell_type": "code",
   "execution_count": null,
   "id": "3acab354",
   "metadata": {},
   "outputs": [],
   "source": []
  }
 ],
 "metadata": {
  "kernelspec": {
   "display_name": "Python 3 (ipykernel)",
   "language": "python",
   "name": "python3"
  },
  "language_info": {
   "codemirror_mode": {
    "name": "ipython",
    "version": 3
   },
   "file_extension": ".py",
   "mimetype": "text/x-python",
   "name": "python",
   "nbconvert_exporter": "python",
   "pygments_lexer": "ipython3",
   "version": "3.7.0"
  }
 },
 "nbformat": 4,
 "nbformat_minor": 5
}
